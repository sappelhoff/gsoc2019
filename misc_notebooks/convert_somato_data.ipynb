{
 "cells": [
  {
   "cell_type": "markdown",
   "metadata": {},
   "source": [
    "# Converting the MNE \"somato-data\" to BIDS format\n",
    "\n",
    "## Requirements\n",
    "\n",
    "The python dependencies to run this notebook are:\n",
    "- jupyter\n",
    "- numpy\n",
    "- scipy\n",
    "- mne<0.19\n",
    "- mne-bids\n",
    "- nibabel\n",
    "\n",
    "\n",
    "## Helpful links\n",
    "\n",
    "- https://github.com/mne-tools/mne-bids\n",
    "\n",
    "## Copyright\n",
    "```Text\n",
    "# Authors: Stefan Appelhoff <stefan.appelhoff@mailbox.org>\n",
    "#\n",
    "# License: BSD (3-clause)\n",
    "```\n"
   ]
  },
  {
   "cell_type": "code",
   "execution_count": 1,
   "metadata": {
    "ExecuteTime": {
     "end_time": "2019-07-22T10:07:48.046604Z",
     "start_time": "2019-07-22T10:07:48.043216Z"
    }
   },
   "outputs": [],
   "source": [
    "import os\n",
    "import os.path as op\n",
    "import shutil as sh\n",
    "import json\n",
    "import warnings\n",
    "\n",
    "import numpy as np\n",
    "import mne\n",
    "import mne.datasets.somato as somato\n",
    "from mne_bids import write_raw_bids, make_bids_basename, write_anat\n",
    "from mne_bids.utils import print_dir_tree"
   ]
  },
  {
   "cell_type": "markdown",
   "metadata": {},
   "source": [
    "# Convert to BIDS"
   ]
  },
  {
   "cell_type": "code",
   "execution_count": 2,
   "metadata": {
    "ExecuteTime": {
     "end_time": "2019-07-22T10:07:48.379337Z",
     "start_time": "2019-07-22T10:07:48.371369Z"
    }
   },
   "outputs": [],
   "source": [
    "# Path to the raw data of somato dataset\n",
    "fif_path = op.join(somato.data_path(), 'MEG', 'somato')"
   ]
  },
  {
   "cell_type": "code",
   "execution_count": 3,
   "metadata": {
    "ExecuteTime": {
     "end_time": "2019-07-22T10:07:49.337231Z",
     "start_time": "2019-07-22T10:07:49.286757Z"
    }
   },
   "outputs": [
    {
     "name": "stdout",
     "output_type": "stream",
     "text": [
      "Opening raw data file /home/stefanappelhoff/mne_data/MNE-somato-data/MEG/somato/sef_raw_sss.fif...\n",
      "    Range : 237600 ... 506999 =    791.189 ...  1688.266 secs\n",
      "Ready.\n",
      "Current compensation grade : 0\n"
     ]
    }
   ],
   "source": [
    "# Load the raw data file\n",
    "raw = mne.io.read_raw_fif(op.join(fif_path, 'sef_raw_sss.fif'))"
   ]
  },
  {
   "cell_type": "code",
   "execution_count": 4,
   "metadata": {},
   "outputs": [],
   "source": [
    "# Set the sex of the participant to male\n",
    "# Subject sex (0=unknown, 1=male, 2=female).\n",
    "raw.info['subject_info']['sex'] = raw.info['subject_info'].get('sex', 1)"
   ]
  },
  {
   "cell_type": "code",
   "execution_count": 5,
   "metadata": {
    "ExecuteTime": {
     "end_time": "2019-07-22T10:07:49.985317Z",
     "start_time": "2019-07-22T10:07:49.780137Z"
    }
   },
   "outputs": [
    {
     "name": "stdout",
     "output_type": "stream",
     "text": [
      "111 events found\n",
      "Event IDs: [1]\n"
     ]
    },
    {
     "data": {
      "text/plain": [
       "{'somato_event1': 1}"
      ]
     },
     "execution_count": 5,
     "metadata": {},
     "output_type": "execute_result"
    }
   ],
   "source": [
    "# Get the events, and assign an ID\n",
    "events = mne.find_events(raw)\n",
    "event_id = dict()\n",
    "for val in np.unique(events[:, -1]):\n",
    "    event_id['somato_event{}'.format(val)] = val\n",
    "    \n",
    "event_id"
   ]
  },
  {
   "cell_type": "code",
   "execution_count": 6,
   "metadata": {
    "ExecuteTime": {
     "end_time": "2019-07-22T10:07:51.933593Z",
     "start_time": "2019-07-22T10:07:51.930945Z"
    }
   },
   "outputs": [],
   "source": [
    "# Make a bids name for the raw file\n",
    "bids_basename = make_bids_basename(subject='01', task='somato')"
   ]
  },
  {
   "cell_type": "code",
   "execution_count": 7,
   "metadata": {
    "ExecuteTime": {
     "end_time": "2019-07-22T10:07:52.250632Z",
     "start_time": "2019-07-22T10:07:52.241188Z"
    }
   },
   "outputs": [],
   "source": [
    "# Make a location for the BIDS formatted data\n",
    "somato_parent, somato_name = op.split(somato.data_path())\n",
    "output_path = op.join(somato_parent, 'bids_' + somato_name)"
   ]
  },
  {
   "cell_type": "code",
   "execution_count": 8,
   "metadata": {
    "ExecuteTime": {
     "end_time": "2019-07-22T10:07:54.554315Z",
     "start_time": "2019-07-22T10:07:52.997244Z"
    }
   },
   "outputs": [
    {
     "name": "stdout",
     "output_type": "stream",
     "text": [
      "Opening raw data file /home/stefanappelhoff/mne_data/MNE-somato-data/MEG/somato/sef_raw_sss.fif...\n",
      "    Range : 237600 ... 506999 =    791.189 ...  1688.266 secs\n",
      "Ready.\n",
      "Current compensation grade : 0\n",
      "Creating folder: /home/stefanappelhoff/mne_data/bids_MNE-somato-data/sub-01/meg\n",
      "\n",
      "Writing '/home/stefanappelhoff/mne_data/bids_MNE-somato-data/participants.tsv'...\n",
      "\n",
      "participant_id\tage\tsex\n",
      "sub-01\tn/a\tM\n",
      "\n",
      "Writing '/home/stefanappelhoff/mne_data/bids_MNE-somato-data/participants.json'...\n",
      "\n",
      "{\n",
      "    \"participant_id\": {\n",
      "        \"Description\": \"Unique participant identifier\"\n",
      "    },\n",
      "    \"age\": {\n",
      "        \"Description\": \"Age of the participant at time of testing\",\n",
      "        \"Units\": \"years\"\n",
      "    },\n",
      "    \"sex\": {\n",
      "        \"Description\": \"Biological sex of the participant\",\n",
      "        \"Levels\": {\n",
      "            \"F\": \"female\",\n",
      "            \"M\": \"male\"\n",
      "        }\n",
      "    }\n",
      "}\n",
      "\n",
      "Writing '/home/stefanappelhoff/mne_data/bids_MNE-somato-data/sub-01/sub-01_scans.tsv'...\n",
      "\n",
      "filename\tacq_time\n",
      "meg/sub-01_task-somato_meg.fif\t2007-07-05T13:17:11\n",
      "\n",
      "Writing '/home/stefanappelhoff/mne_data/bids_MNE-somato-data/sub-01/meg/sub-01_coordsystem.json'...\n",
      "\n",
      "{\n",
      "    \"MEGCoordinateSystem\": \"Elekta\",\n",
      "    \"MEGCoordinateUnits\": \"m\",\n",
      "    \"HeadCoilCoordinates\": {\n",
      "        \"NAS\": [\n",
      "            3.725290298461914e-09,\n",
      "            0.10662060976028442,\n",
      "            -9.313225746154785e-10\n",
      "        ],\n",
      "        \"LPA\": [\n",
      "            -0.07144199311733246,\n",
      "            0.0,\n",
      "            -1.0244548320770264e-08\n",
      "        ],\n",
      "        \"RPA\": [\n",
      "            0.07426866143941879,\n",
      "            -2.9802322387695312e-08,\n",
      "            -8.381903171539307e-09\n",
      "        ],\n",
      "        \"coil1\": [\n",
      "            0.072578065097332,\n",
      "            -0.029424816370010376,\n",
      "            0.001879075076431036\n",
      "        ],\n",
      "        \"coil2\": [\n",
      "            0.05504534766077995,\n",
      "            0.0768190324306488,\n",
      "            0.08662255853414536\n",
      "        ],\n",
      "        \"coil3\": [\n",
      "            -0.05433979257941246,\n",
      "            0.07832103967666626,\n",
      "            0.08649172633886337\n",
      "        ],\n",
      "        \"coil4\": [\n",
      "            -0.06853286921977997,\n",
      "            -0.029127715155482292,\n",
      "            -0.004182958975434303\n",
      "        ]\n",
      "    },\n",
      "    \"HeadCoilCoordinateSystem\": \"RAS\",\n",
      "    \"HeadCoilCoordinateUnits\": \"m\"\n",
      "}\n",
      "\n",
      "Writing '/home/stefanappelhoff/mne_data/bids_MNE-somato-data/sub-01/meg/sub-01_task-somato_events.tsv'...\n",
      "\n",
      "onset\tduration\ttrial_type\tvalue\tsample\n",
      "6.816346688920333\t0.0\tsomato_event1\t1\t2047\n",
      "15.034589790168686\t0.0\tsomato_event1\t1\t4515\n",
      "22.393713474835973\t0.0\tsomato_event1\t1\t6725\n",
      "31.327889423235217\t0.0\tsomato_event1\t1\t9408\n",
      "39.31636802935142\t0.0\tsomato_event1\t1\t11807\n",
      "\n",
      "Writing '/home/stefanappelhoff/mne_data/bids_MNE-somato-data/dataset_description.json'...\n",
      "\n",
      "{\n",
      "    \"Name\": \" \",\n",
      "    \"BIDSVersion\": \"1.2.0\"\n",
      "}\n",
      "\n",
      "Writing '/home/stefanappelhoff/mne_data/bids_MNE-somato-data/sub-01/meg/sub-01_task-somato_meg.json'...\n",
      "\n",
      "{\n",
      "    \"TaskName\": \"somato\",\n",
      "    \"Manufacturer\": \"Elekta\",\n",
      "    \"PowerLineFrequency\": 50,\n",
      "    \"SamplingFrequency\": 300.3074951171875,\n",
      "    \"SoftwareFilters\": \"n/a\",\n",
      "    \"RecordingDuration\": 897.0771771609423,\n",
      "    \"RecordingType\": \"continuous\",\n",
      "    \"DewarPosition\": \"n/a\",\n",
      "    \"DigitizedLandmarks\": false,\n",
      "    \"DigitizedHeadPoints\": false,\n",
      "    \"MEGChannelCount\": 306,\n",
      "    \"MEGREFChannelCount\": 0,\n",
      "    \"EEGChannelCount\": 0,\n",
      "    \"EOGChannelCount\": 1,\n",
      "    \"ECGChannelCount\": 0,\n",
      "    \"EMGChannelCount\": 0,\n",
      "    \"MiscChannelCount\": 0,\n",
      "    \"TriggerChannelCount\": 9\n",
      "}\n",
      "\n",
      "Writing '/home/stefanappelhoff/mne_data/bids_MNE-somato-data/sub-01/meg/sub-01_task-somato_channels.tsv'...\n",
      "\n",
      "name\ttype\tunits\tlow_cutoff\thigh_cutoff\tdescription\tsampling_frequency\tstatus\n",
      "MEG 0113\tMEGGRADPLANAR\tT/m\t0.10000000149011612\t100.10250091552734\tPlanar Gradiometer\t300.3074951171875\tgood\n",
      "MEG 0112\tMEGGRADPLANAR\tT/m\t0.10000000149011612\t100.10250091552734\tPlanar Gradiometer\t300.3074951171875\tgood\n",
      "MEG 0111\tMEGMAG\tT\t0.10000000149011612\t100.10250091552734\tMagnetometer\t300.3074951171875\tgood\n",
      "MEG 0122\tMEGGRADPLANAR\tT/m\t0.10000000149011612\t100.10250091552734\tPlanar Gradiometer\t300.3074951171875\tgood\n",
      "MEG 0123\tMEGGRADPLANAR\tT/m\t0.10000000149011612\t100.10250091552734\tPlanar Gradiometer\t300.3074951171875\tgood\n",
      "Copying data files to /home/stefanappelhoff/mne_data/bids_MNE-somato-data/sub-01/meg/sub-01_task-somato_meg.fif\n",
      "Overwriting existing file.\n",
      "Writing /home/stefanappelhoff/mne_data/bids_MNE-somato-data/sub-01/meg/sub-01_task-somato_meg.fif\n"
     ]
    },
    {
     "name": "stderr",
     "output_type": "stream",
     "text": [
      "/home/stefanappelhoff/Desktop/bids/mne-bids/mne_bids/write.py:405: UserWarning: No line frequency found, defaulting to 50 Hz\n",
      "  warn('No line frequency found, defaulting to 50 Hz')\n"
     ]
    },
    {
     "name": "stdout",
     "output_type": "stream",
     "text": [
      "Closing /home/stefanappelhoff/mne_data/bids_MNE-somato-data/sub-01/meg/sub-01_task-somato_meg.fif [done]\n"
     ]
    },
    {
     "data": {
      "text/plain": [
       "'/home/stefanappelhoff/mne_data/bids_MNE-somato-data'"
      ]
     },
     "execution_count": 8,
     "metadata": {},
     "output_type": "execute_result"
    }
   ],
   "source": [
    "# Write the data\n",
    "write_raw_bids(raw, bids_basename, output_path, events, event_id, overwrite=True)"
   ]
  },
  {
   "cell_type": "code",
   "execution_count": 9,
   "metadata": {},
   "outputs": [],
   "source": [
    "# Edit dataset_description.json to includ link to dataset\n",
    "dataset_description_json = op.join(output_path, 'dataset_description.json')\n",
    "with open(dataset_description_json, 'r') as fin:\n",
    "    jsondict = json.load(fin)\n",
    "    \n",
    "# Edit some fields we know of\n",
    "jsondict['Name'] = 'MNE-somato-data-bids'\n",
    "jsondict['ReferencesAndLinks'] = ['http://martinos.org/mne/stable/manual/datasets_index.html?#somatosensory']\n",
    "jsondict['Acknowledgements'] = \"Stefan Appelhoff, Alexandre Gramfort, and Mainak Jas formatted these data to BIDS.\"\n",
    "    \n",
    "    \n",
    "# overwrite the json, updating it\n",
    "with open(dataset_description_json, 'w') as fout:\n",
    "    json.dump(jsondict, fout,indent=2, sort_keys=True)"
   ]
  },
  {
   "cell_type": "code",
   "execution_count": 10,
   "metadata": {
    "ExecuteTime": {
     "end_time": "2019-07-22T10:10:14.587250Z",
     "start_time": "2019-07-22T10:10:14.574657Z"
    }
   },
   "outputs": [
    {
     "name": "stdout",
     "output_type": "stream",
     "text": [
      "\n",
      "Writing '/home/stefanappelhoff/mne_data/bids_MNE-somato-data/sub-01/anat/sub-01_T1w.json'...\n",
      "\n",
      "{\n",
      "    \"AnatomicalLandmarkCoordinates\": {\n",
      "        \"LPA\": [\n",
      "            198.40044760003894,\n",
      "            155.54004821809775,\n",
      "            107.97464085171057\n",
      "        ],\n",
      "        \"NAS\": [\n",
      "            130.7952568859909,\n",
      "            120.6312019648147,\n",
      "            211.33242222532203\n",
      "        ],\n",
      "        \"RPA\": [\n",
      "            52.85523322409679,\n",
      "            149.5402399941663,\n",
      "            111.46539702607649\n",
      "        ]\n",
      "    }\n",
      "}\n"
     ]
    },
    {
     "data": {
      "text/plain": [
       "'/home/stefanappelhoff/mne_data/bids_MNE-somato-data/sub-01/anat'"
      ]
     },
     "execution_count": 10,
     "metadata": {},
     "output_type": "execute_result"
    }
   ],
   "source": [
    "# Write anatomical data to BIDS\n",
    "# we take the original T1 from the freesurfer directory\n",
    "t1w = op.join(somato.data_path(), 'subjects', 'somato', 'mri', 'T1.mgz')\n",
    "\n",
    "# we also take the trans file, and use it to write the coordinates of \n",
    "# anatomical landmarks to a T1w.json file\n",
    "trans = op.join(somato.data_path(), 'MEG', 'somato', 'sef_raw_sss-trans.fif')\n",
    "\n",
    "# Copy over the MRI, convert it to NIfTI format, and write the anatomical landmarks\n",
    "# in voxel coordinates\n",
    "write_anat(output_path, subject='01', t1w=t1w, trans=trans, raw=raw,\n",
    "           overwrite=True, verbose=True)"
   ]
  },
  {
   "cell_type": "code",
   "execution_count": 11,
   "metadata": {
    "ExecuteTime": {
     "end_time": "2019-07-22T10:02:39.891224Z",
     "start_time": "2019-07-22T10:02:39.887512Z"
    }
   },
   "outputs": [
    {
     "name": "stdout",
     "output_type": "stream",
     "text": [
      "|bids_MNE-somato-data\n",
      "|--- participants.tsv\n",
      "|--- dataset_description.json\n",
      "|--- README\n",
      "|--- participants.json\n",
      "|--- derivatives\n",
      "|------ mne_forward_model\n",
      "|--------- sub-01\n",
      "|------------ sub-01_task-somato-meg-oct-6-fwd.fif\n",
      "|------ freesurfer\n",
      "|--------- subjects\n",
      "|--- sub-01\n",
      "|------ sub-01_scans.tsv\n",
      "|------ meg\n",
      "|--------- sub-01_task-somato_channels.tsv\n",
      "|--------- sub-01_task-somato_meg.json\n",
      "|--------- sub-01_task-somato_events.tsv\n",
      "|--------- sub-01_task-somato_meg.fif\n",
      "|--------- sub-01_coordsystem.json\n",
      "|------ anat\n",
      "|--------- sub-01_T1w.nii.gz\n",
      "|--------- sub-01_T1w.json\n"
     ]
    }
   ],
   "source": [
    "# Show what the converted data looks like so far\n",
    "print_dir_tree(output_path)"
   ]
  },
  {
   "cell_type": "markdown",
   "metadata": {},
   "source": [
    "# Add derivatives\n",
    "\n",
    "some files cannot be specified in BIDS yet. We add these to derivatives\n"
   ]
  },
  {
   "cell_type": "code",
   "execution_count": 12,
   "metadata": {},
   "outputs": [],
   "source": [
    "# General derivatives directory\n",
    "derivatives_dir =op.join(output_path, 'derivatives')\n",
    "if not op.exists(derivatives_dir):\n",
    "    os.makedirs(derivatives_dir)"
   ]
  },
  {
   "cell_type": "markdown",
   "metadata": {},
   "source": [
    "##### Notes on freesurfer\n",
    "\n",
    "we *cannot* simply copy over the freesurfer files from the non-BIDS somato data, because we need to rename the subject to '01' instead of 'somato'\n",
    "\n",
    "###### Example workflow (bash)\n",
    "\n",
    "First run freesurfer:\n",
    "\n",
    "```bash\n",
    "$ export SUBJECTS_DIR=/home/username/subjects\n",
    "\n",
    "$ echo $SUBJECTS_DIR\n",
    "/home/username/subjects\n",
    "\n",
    "$ recon-all -all -i /home/username/bids_MNE-somato-data/sub-01/anat/sub-01_T1w.nii.gz -s 01\n",
    "```\n",
    "\n",
    "Then your `$SUBJECTS_DIR` should contain a folder `01` with the somato MRI data derivatives and you can successfully run the following cell."
   ]
  },
  {
   "cell_type": "code",
   "execution_count": 13,
   "metadata": {},
   "outputs": [
    {
     "name": "stderr",
     "output_type": "stream",
     "text": [
      "/home/stefanappelhoff/miniconda3/envs/mne/lib/python3.6/site-packages/ipykernel_launcher.py:19: UserWarning: \n",
      "\n",
      "**NOT** copying the freesurfer data. Please read the instructions in the cell above.\n"
     ]
    }
   ],
   "source": [
    "# Make a freesurfer directory. \n",
    "subjects_dir = op.join(derivatives_dir, 'freesurfer', 'subjects')\n",
    "if not op.exists(subjects_dir):\n",
    "    os.makedirs(subjects_dir)\n",
    "    \n",
    "    \n",
    "# The following path MUST point to the subject directory used with the `recon-all`\n",
    "# freesurfer call on the mri data in \"sub-01/anat/sub-01_T1w.nii.gz\"\n",
    "# Example:\n",
    "# \n",
    "# `recon-all -all -i /home/username/bids_MNE-somato-data/sub-01/anat/sub-01_T1w.nii.gz\n",
    "#  -s 01 -d /home/username/subjects/01`\n",
    "# `freesurfer_data_to_copy_over = '/home/username/Desktop/subjects/01'`\n",
    "local_subjects_dir = os.getenv('SUBJECTS_DIR', None)\n",
    "if local_subjects_dir is not None:\n",
    "    freesurfer_data_to_copy_overop.join(local_subjects_dir, '01')\n",
    "    sh.copytree(freesurfer_data_to_copy_over, subjects_dir)\n",
    "else:\n",
    "    warnings.warn('\\n\\n**NOT** copying the freesurfer data. '\n",
    "                  'Please read the instructions in the cell above.')\n",
    "    \n",
    "    "
   ]
  },
  {
   "cell_type": "code",
   "execution_count": 14,
   "metadata": {},
   "outputs": [
    {
     "data": {
      "text/plain": [
       "'/home/stefanappelhoff/mne_data/bids_MNE-somato-data/derivatives/mne_forward_model/sub-01/sub-01_task-somato-meg-oct-6-fwd.fif'"
      ]
     },
     "execution_count": 14,
     "metadata": {},
     "output_type": "execute_result"
    }
   ],
   "source": [
    "# Make a directory for the forward model and copy it there\n",
    "forward_dir = op.join(derivatives_dir, 'mne_forward_model', 'sub-01')\n",
    "if not op.exists(forward_dir):\n",
    "    os.makedirs(forward_dir)\n",
    "    \n",
    "# copy it, overwriting old if it's there\n",
    "old_forward = op.join(somato.data_path(), 'MEG', 'somato', 'somato-meg-oct-6-fwd.fif')\n",
    "bids_forward = op.join(forward_dir, 'sub-01_task-somato-meg-oct-6-fwd.fif')\n",
    "sh.copyfile(old_forward, bids_forward)"
   ]
  },
  {
   "cell_type": "code",
   "execution_count": 15,
   "metadata": {},
   "outputs": [
    {
     "name": "stdout",
     "output_type": "stream",
     "text": [
      "|bids_MNE-somato-data\n",
      "|--- participants.tsv\n",
      "|--- dataset_description.json\n",
      "|--- README\n",
      "|--- participants.json\n",
      "|--- derivatives\n",
      "|------ mne_forward_model\n",
      "|--------- sub-01\n",
      "|------------ sub-01_task-somato-meg-oct-6-fwd.fif\n",
      "|------ freesurfer\n",
      "|--------- subjects\n",
      "|--- sub-01\n",
      "|------ sub-01_scans.tsv\n",
      "|------ meg\n",
      "|--------- sub-01_task-somato_channels.tsv\n",
      "|--------- sub-01_task-somato_meg.json\n",
      "|--------- sub-01_task-somato_events.tsv\n",
      "|--------- sub-01_task-somato_meg.fif\n",
      "|--------- sub-01_coordsystem.json\n",
      "|------ anat\n",
      "|--------- sub-01_T1w.nii.gz\n",
      "|--------- sub-01_T1w.json\n"
     ]
    }
   ],
   "source": [
    "# Show what the converted data looks like so far\n",
    "print_dir_tree(output_path)"
   ]
  },
  {
   "cell_type": "markdown",
   "metadata": {},
   "source": [
    "# Create READMEs and copy over this code as well"
   ]
  },
  {
   "cell_type": "code",
   "execution_count": 16,
   "metadata": {},
   "outputs": [],
   "source": [
    "# Prepare the text for the central README\n",
    "txt1 = \"\"\"MNE-somato-data-bids\n",
    "====================\n",
    "\n",
    "This dataset contains the MNE-somato-data in BIDS format.\n",
    "\n",
    "The conversion can be reproduced through the jupyter notebook stored in the\n",
    "/code directory of this dataset. See the README in that directory.\n",
    "\n",
    "The /derivaties directory contains the outputs of running the freesurfer pipeline\n",
    "`recon-all` on the MRI data with no additional commandline options (only defaults were used).\n",
    "\n",
    "It also contains, the forward model *-fwd.fif, which was produced using the source space\n",
    "definition, a -trans.fif file, and the boundary element model / conductor model that live\n",
    "in freesurfer/subjects/01/bem/*-bem-sol.fif.\n",
    "\n",
    "The -trans.fif file is not saved, but can be recovered from the anatomical landmarks\n",
    "in the sub-01/anat/T1w.json file and MNE-BIDS' function `get_head_mri_transform`.\n",
    "\n",
    "See: https://github.com/mne-tools/mne-bids for more information.\n",
    "\n",
    "\n",
    "Note on freesurfer\n",
    "==================\n",
    "the freesurfer pipeline `recon-all` was run new for the sake of converting the somato\n",
    "data to BIDS format. This needed to be done to change the \"somato\" subject name to \n",
    "the BIDS subject label \"01\".\n",
    "\n",
    "\n",
    "\"\"\""
   ]
  },
  {
   "cell_type": "code",
   "execution_count": 17,
   "metadata": {},
   "outputs": [],
   "source": [
    "readme_fname = op.join(output_path, 'README')\n",
    "\n",
    "with open(readme_fname, 'w') as fout:\n",
    "    print(txt1, file=fout)"
   ]
  },
  {
   "cell_type": "code",
   "execution_count": 24,
   "metadata": {},
   "outputs": [],
   "source": [
    "# Prepare a /code directory and write a README\n",
    "code_dir = op.join(output_path, 'code')\n",
    "if not op.exists(code_dir):\n",
    "    os.makedirs(code_dir)\n",
    "\n",
    "txt2 = \"\"\"`convert_somato_data.ipynb` is a [jupyter notebook](https://jupyter.org/)\n",
    "that helps to convert the MNE-somato-data into [BIDS](bids.neuroimaging.io) format.\n",
    "\n",
    "To run this notebook, you can follow the instructions here: https://jupyter.org/install\n",
    "\"\"\"\n",
    "\n",
    "readme_fname = op.join(code_dir, 'README')\n",
    "\n",
    "with open(readme_fname, 'w') as fout:\n",
    "    print(txt2, file=fout)\n"
   ]
  },
  {
   "cell_type": "code",
   "execution_count": null,
   "metadata": {},
   "outputs": [],
   "source": [
    "# Finally, copy over this jupyter notebook as well"
   ]
  },
  {
   "cell_type": "code",
   "execution_count": 29,
   "metadata": {},
   "outputs": [],
   "source": [
    "fname = 'convert_somato_data.ipynb'\n",
    "fpath = os.path.dirname(os.path.realpath('__file__'))\n",
    "fpath = op.join(fpath, fname)"
   ]
  },
  {
   "cell_type": "code",
   "execution_count": 31,
   "metadata": {},
   "outputs": [
    {
     "ename": "IsADirectoryError",
     "evalue": "[Errno 21] Is a directory: '/home/stefanappelhoff/mne_data/bids_MNE-somato-data/code'",
     "output_type": "error",
     "traceback": [
      "\u001b[0;31m---------------------------------------------------------------------------\u001b[0m",
      "\u001b[0;31mIsADirectoryError\u001b[0m                         Traceback (most recent call last)",
      "\u001b[0;32m<ipython-input-31-a4fb1c65d46e>\u001b[0m in \u001b[0;36m<module>\u001b[0;34m\u001b[0m\n\u001b[1;32m      1\u001b[0m \u001b[0;34m\u001b[0m\u001b[0m\n\u001b[0;32m----> 2\u001b[0;31m \u001b[0msh\u001b[0m\u001b[0;34m.\u001b[0m\u001b[0mcopyfile\u001b[0m\u001b[0;34m(\u001b[0m\u001b[0mfpath\u001b[0m\u001b[0;34m,\u001b[0m \u001b[0mcode_dir\u001b[0m\u001b[0;34m)\u001b[0m\u001b[0;34m\u001b[0m\u001b[0;34m\u001b[0m\u001b[0m\n\u001b[0m",
      "\u001b[0;32m~/miniconda3/envs/mne/lib/python3.6/shutil.py\u001b[0m in \u001b[0;36mcopyfile\u001b[0;34m(src, dst, follow_symlinks)\u001b[0m\n\u001b[1;32m    119\u001b[0m     \u001b[0;32melse\u001b[0m\u001b[0;34m:\u001b[0m\u001b[0;34m\u001b[0m\u001b[0;34m\u001b[0m\u001b[0m\n\u001b[1;32m    120\u001b[0m         \u001b[0;32mwith\u001b[0m \u001b[0mopen\u001b[0m\u001b[0;34m(\u001b[0m\u001b[0msrc\u001b[0m\u001b[0;34m,\u001b[0m \u001b[0;34m'rb'\u001b[0m\u001b[0;34m)\u001b[0m \u001b[0;32mas\u001b[0m \u001b[0mfsrc\u001b[0m\u001b[0;34m:\u001b[0m\u001b[0;34m\u001b[0m\u001b[0;34m\u001b[0m\u001b[0m\n\u001b[0;32m--> 121\u001b[0;31m             \u001b[0;32mwith\u001b[0m \u001b[0mopen\u001b[0m\u001b[0;34m(\u001b[0m\u001b[0mdst\u001b[0m\u001b[0;34m,\u001b[0m \u001b[0;34m'wb'\u001b[0m\u001b[0;34m)\u001b[0m \u001b[0;32mas\u001b[0m \u001b[0mfdst\u001b[0m\u001b[0;34m:\u001b[0m\u001b[0;34m\u001b[0m\u001b[0;34m\u001b[0m\u001b[0m\n\u001b[0m\u001b[1;32m    122\u001b[0m                 \u001b[0mcopyfileobj\u001b[0m\u001b[0;34m(\u001b[0m\u001b[0mfsrc\u001b[0m\u001b[0;34m,\u001b[0m \u001b[0mfdst\u001b[0m\u001b[0;34m)\u001b[0m\u001b[0;34m\u001b[0m\u001b[0;34m\u001b[0m\u001b[0m\n\u001b[1;32m    123\u001b[0m     \u001b[0;32mreturn\u001b[0m \u001b[0mdst\u001b[0m\u001b[0;34m\u001b[0m\u001b[0;34m\u001b[0m\u001b[0m\n",
      "\u001b[0;31mIsADirectoryError\u001b[0m: [Errno 21] Is a directory: '/home/stefanappelhoff/mne_data/bids_MNE-somato-data/code'"
     ]
    }
   ],
   "source": [
    "\n",
    "sh.copyfile(fpath, op.join(code_dir, fname))"
   ]
  },
  {
   "cell_type": "code",
   "execution_count": 18,
   "metadata": {},
   "outputs": [
    {
     "name": "stdout",
     "output_type": "stream",
     "text": [
      "|bids_MNE-somato-data\n",
      "|--- participants.tsv\n",
      "|--- dataset_description.json\n",
      "|--- README\n",
      "|--- participants.json\n",
      "|--- derivatives\n",
      "|------ mne_forward_model\n",
      "|--------- sub-01\n",
      "|------------ sub-01_task-somato-meg-oct-6-fwd.fif\n",
      "|------ freesurfer\n",
      "|--------- subjects\n",
      "|--- sub-01\n",
      "|------ sub-01_scans.tsv\n",
      "|------ meg\n",
      "|--------- sub-01_task-somato_channels.tsv\n",
      "|--------- sub-01_task-somato_meg.json\n",
      "|--------- sub-01_task-somato_events.tsv\n",
      "|--------- sub-01_task-somato_meg.fif\n",
      "|--------- sub-01_coordsystem.json\n",
      "|------ anat\n",
      "|--------- sub-01_T1w.nii.gz\n",
      "|--------- sub-01_T1w.json\n"
     ]
    }
   ],
   "source": [
    "# Show what the converted data looks like so far\n",
    "print_dir_tree(output_path)"
   ]
  },
  {
   "cell_type": "code",
   "execution_count": null,
   "metadata": {},
   "outputs": [],
   "source": []
  }
 ],
 "metadata": {
  "kernelspec": {
   "display_name": "Python 3",
   "language": "python",
   "name": "python3"
  },
  "language_info": {
   "codemirror_mode": {
    "name": "ipython",
    "version": 3
   },
   "file_extension": ".py",
   "mimetype": "text/x-python",
   "name": "python",
   "nbconvert_exporter": "python",
   "pygments_lexer": "ipython3",
   "version": "3.6.8"
  }
 },
 "nbformat": 4,
 "nbformat_minor": 2
}
