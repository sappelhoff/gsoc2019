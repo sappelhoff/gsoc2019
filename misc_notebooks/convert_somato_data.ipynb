{
 "cells": [
  {
   "cell_type": "code",
   "execution_count": 1,
   "metadata": {},
   "outputs": [],
   "source": [
    "import os.path as op\n",
    "\n",
    "import numpy as np\n",
    "import mne\n",
    "import mne.datasets.somato as somato\n",
    "from mne_bids import write_raw_bids, make_bids_basename\n",
    "from mne_bids.utils import print_dir_tree"
   ]
  },
  {
   "cell_type": "code",
   "execution_count": 2,
   "metadata": {},
   "outputs": [],
   "source": [
    "# Path to the raw data of somato dataset\n",
    "fif_path = op.join(somato.data_path(), 'MEG', 'somato')"
   ]
  },
  {
   "cell_type": "code",
   "execution_count": 3,
   "metadata": {},
   "outputs": [
    {
     "name": "stdout",
     "output_type": "stream",
     "text": [
      "Opening raw data file /home/stefanappelhoff/mne_data/MNE-somato-data/MEG/somato/sef_raw_sss.fif...\n",
      "    Range : 237600 ... 506999 =    791.189 ...  1688.266 secs\n",
      "Ready.\n",
      "Current compensation grade : 0\n"
     ]
    }
   ],
   "source": [
    "# Load the raw data file\n",
    "raw = mne.io.read_raw_fif(op.join(fif_path, 'sef_raw_sss.fif'))"
   ]
  },
  {
   "cell_type": "code",
   "execution_count": 4,
   "metadata": {},
   "outputs": [
    {
     "name": "stdout",
     "output_type": "stream",
     "text": [
      "111 events found\n",
      "Event IDs: [1]\n"
     ]
    },
    {
     "data": {
      "text/plain": [
       "{'somato_event1': 1}"
      ]
     },
     "execution_count": 4,
     "metadata": {},
     "output_type": "execute_result"
    }
   ],
   "source": [
    "# Get the events, and assign an ID\n",
    "events = mne.find_events(raw)\n",
    "event_id = dict()\n",
    "for val in np.unique(events[:, -1]):\n",
    "    event_id['somato_event{}'.format(val)] = val\n",
    "    \n",
    "event_id"
   ]
  },
  {
   "cell_type": "code",
   "execution_count": 5,
   "metadata": {},
   "outputs": [],
   "source": [
    "# Make a bids name for the raw file\n",
    "bids_basename = make_bids_basename(subject='01', task='somato')"
   ]
  },
  {
   "cell_type": "code",
   "execution_count": 6,
   "metadata": {},
   "outputs": [],
   "source": [
    "# Make a location for the BIDS formatted data\n",
    "somato_parent, somato_name = op.split(somato.data_path())\n",
    "output_path = op.join(somato_parent, 'bids_' + somato_name)"
   ]
  },
  {
   "cell_type": "code",
   "execution_count": 7,
   "metadata": {},
   "outputs": [
    {
     "name": "stdout",
     "output_type": "stream",
     "text": [
      "Opening raw data file /home/stefanappelhoff/mne_data/MNE-somato-data/MEG/somato/sef_raw_sss.fif...\n",
      "    Range : 237600 ... 506999 =    791.189 ...  1688.266 secs\n",
      "Ready.\n",
      "Current compensation grade : 0\n",
      "Creating folder: /home/stefanappelhoff/mne_data/bids_MNE-somato-data/sub-01/meg\n",
      "\n",
      "Writing '/home/stefanappelhoff/mne_data/bids_MNE-somato-data/participants.tsv'...\n",
      "\n",
      "participant_id\tage\tsex\n",
      "sub-01\tn/a\tn/a\n",
      "\n",
      "Writing '/home/stefanappelhoff/mne_data/bids_MNE-somato-data/participants.json'...\n",
      "\n",
      "{\n",
      "    \"participant_id\": {\n",
      "        \"Description\": \"Unique participant identifier\"\n",
      "    },\n",
      "    \"age\": {\n",
      "        \"Description\": \"Age of the participant at time of testing\",\n",
      "        \"Units\": \"years\"\n",
      "    },\n",
      "    \"sex\": {\n",
      "        \"Description\": \"Biological sex of the participant\",\n",
      "        \"Levels\": {\n",
      "            \"F\": \"female\",\n",
      "            \"M\": \"male\"\n",
      "        }\n",
      "    }\n",
      "}\n",
      "\n",
      "Writing '/home/stefanappelhoff/mne_data/bids_MNE-somato-data/sub-01/sub-01_scans.tsv'...\n",
      "\n",
      "filename\tacq_time\n",
      "meg/sub-01_task-somato_meg.fif\t2007-07-05T13:17:11\n",
      "\n",
      "Writing '/home/stefanappelhoff/mne_data/bids_MNE-somato-data/sub-01/meg/sub-01_coordsystem.json'...\n",
      "\n",
      "{\n",
      "    \"MEGCoordinateSystem\": \"Elekta\",\n",
      "    \"MEGCoordinateUnits\": \"m\",\n",
      "    \"HeadCoilCoordinates\": {\n",
      "        \"NAS\": [\n",
      "            3.725290298461914e-09,\n",
      "            0.10662060976028442,\n",
      "            -9.313225746154785e-10\n",
      "        ],\n",
      "        \"LPA\": [\n",
      "            -0.07144199311733246,\n",
      "            0.0,\n",
      "            -1.0244548320770264e-08\n",
      "        ],\n",
      "        \"RPA\": [\n",
      "            0.07426866143941879,\n",
      "            -2.9802322387695312e-08,\n",
      "            -8.381903171539307e-09\n",
      "        ],\n",
      "        \"coil1\": [\n",
      "            0.072578065097332,\n",
      "            -0.029424816370010376,\n",
      "            0.001879075076431036\n",
      "        ],\n",
      "        \"coil2\": [\n",
      "            0.05504534766077995,\n",
      "            0.0768190324306488,\n",
      "            0.08662255853414536\n",
      "        ],\n",
      "        \"coil3\": [\n",
      "            -0.05433979257941246,\n",
      "            0.07832103967666626,\n",
      "            0.08649172633886337\n",
      "        ],\n",
      "        \"coil4\": [\n",
      "            -0.06853286921977997,\n",
      "            -0.029127715155482292,\n",
      "            -0.004182958975434303\n",
      "        ]\n",
      "    },\n",
      "    \"HeadCoilCoordinateSystem\": \"RAS\",\n",
      "    \"HeadCoilCoordinateUnits\": \"m\"\n",
      "}\n",
      "\n",
      "Writing '/home/stefanappelhoff/mne_data/bids_MNE-somato-data/sub-01/meg/sub-01_task-somato_events.tsv'...\n",
      "\n",
      "onset\tduration\ttrial_type\tvalue\tsample\n",
      "6.816346688920333\t0.0\tsomato_event1\t1\t2047\n",
      "15.034589790168686\t0.0\tsomato_event1\t1\t4515\n",
      "22.393713474835973\t0.0\tsomato_event1\t1\t6725\n",
      "31.327889423235217\t0.0\tsomato_event1\t1\t9408\n",
      "39.31636802935142\t0.0\tsomato_event1\t1\t11807\n",
      "\n",
      "Writing '/home/stefanappelhoff/mne_data/bids_MNE-somato-data/dataset_description.json'...\n",
      "\n",
      "{\n",
      "    \"Name\": \" \",\n",
      "    \"BIDSVersion\": \"1.2.0\"\n",
      "}\n",
      "\n",
      "Writing '/home/stefanappelhoff/mne_data/bids_MNE-somato-data/sub-01/meg/sub-01_task-somato_meg.json'...\n",
      "\n",
      "{\n",
      "    \"TaskName\": \"somato\",\n",
      "    \"Manufacturer\": \"Elekta\",\n",
      "    \"PowerLineFrequency\": 50,\n",
      "    \"SamplingFrequency\": 300.3074951171875,\n",
      "    \"SoftwareFilters\": \"n/a\",\n",
      "    \"RecordingDuration\": 897.0771771609423,\n",
      "    \"RecordingType\": \"continuous\",\n",
      "    \"DewarPosition\": \"n/a\",\n",
      "    \"DigitizedLandmarks\": false,\n",
      "    \"DigitizedHeadPoints\": false,\n",
      "    \"MEGChannelCount\": 306,\n",
      "    \"MEGREFChannelCount\": 0,\n",
      "    \"EEGChannelCount\": 0,\n",
      "    \"EOGChannelCount\": 1,\n",
      "    \"ECGChannelCount\": 0,\n",
      "    \"EMGChannelCount\": 0,\n",
      "    \"MiscChannelCount\": 0,\n",
      "    \"TriggerChannelCount\": 9\n",
      "}\n",
      "\n",
      "Writing '/home/stefanappelhoff/mne_data/bids_MNE-somato-data/sub-01/meg/sub-01_task-somato_channels.tsv'...\n",
      "\n",
      "name\ttype\tunits\tlow_cutoff\thigh_cutoff\tdescription\tsampling_frequency\tstatus\n",
      "MEG 0113\tMEGGRADPLANAR\tT/m\t0.10000000149011612\t100.10250091552734\tPlanar Gradiometer\t300.3074951171875\tgood\n",
      "MEG 0112\tMEGGRADPLANAR\tT/m\t0.10000000149011612\t100.10250091552734\tPlanar Gradiometer\t300.3074951171875\tgood\n",
      "MEG 0111\tMEGMAG\tT\t0.10000000149011612\t100.10250091552734\tMagnetometer\t300.3074951171875\tgood\n",
      "MEG 0122\tMEGGRADPLANAR\tT/m\t0.10000000149011612\t100.10250091552734\tPlanar Gradiometer\t300.3074951171875\tgood\n",
      "MEG 0123\tMEGGRADPLANAR\tT/m\t0.10000000149011612\t100.10250091552734\tPlanar Gradiometer\t300.3074951171875\tgood\n",
      "Copying data files to /home/stefanappelhoff/mne_data/bids_MNE-somato-data/sub-01/meg/sub-01_task-somato_meg.fif\n",
      "Overwriting existing file.\n",
      "Writing /home/stefanappelhoff/mne_data/bids_MNE-somato-data/sub-01/meg/sub-01_task-somato_meg.fif\n"
     ]
    },
    {
     "name": "stderr",
     "output_type": "stream",
     "text": [
      "/home/stefanappelhoff/miniconda3/envs/mne/lib/python3.6/site-packages/mne_bids-0.2.dev0-py3.6.egg/mne_bids/write.py:418: UserWarning: No line frequency found, defaulting to 50 Hz\n",
      "  warn('No line frequency found, defaulting to 50 Hz')\n",
      "/home/stefanappelhoff/miniconda3/envs/mne/lib/python3.6/site-packages/mne_bids-0.2.dev0-py3.6.egg/mne_bids/write.py:921: RuntimeWarning: This filename (/home/stefanappelhoff/mne_data/bids_MNE-somato-data/sub-01/meg/sub-01_task-somato_meg.fif) does not conform to MNE naming conventions. All raw files should end with raw.fif, raw_sss.fif, raw_tsss.fif, raw.fif.gz, raw_sss.fif.gz or raw_tsss.fif.gz\n",
      "  raw.save(bids_fname, overwrite=True, split_naming='neuromag')\n"
     ]
    },
    {
     "name": "stdout",
     "output_type": "stream",
     "text": [
      "Closing /home/stefanappelhoff/mne_data/bids_MNE-somato-data/sub-01/meg/sub-01_task-somato_meg.fif [done]\n"
     ]
    },
    {
     "data": {
      "text/plain": [
       "'/home/stefanappelhoff/mne_data/bids_MNE-somato-data'"
      ]
     },
     "execution_count": 7,
     "metadata": {},
     "output_type": "execute_result"
    }
   ],
   "source": [
    "# Write the data\n",
    "write_raw_bids(raw, bids_basename, output_path, events, event_id, overwrite=True)"
   ]
  },
  {
   "cell_type": "code",
   "execution_count": 8,
   "metadata": {},
   "outputs": [
    {
     "name": "stdout",
     "output_type": "stream",
     "text": [
      "|bids_MNE-somato-data\n",
      "|--- participants.tsv\n",
      "|--- dataset_description.json\n",
      "|--- participants.json\n",
      "|--- sub-01\n",
      "|------ sub-01_scans.tsv\n",
      "|------ meg\n",
      "|--------- sub-01_task-somato_channels.tsv\n",
      "|--------- sub-01_task-somato_meg.json\n",
      "|--------- sub-01_task-somato_events.tsv\n",
      "|--------- sub-01_task-somato_meg.fif\n",
      "|--------- sub-01_coordsystem.json\n"
     ]
    }
   ],
   "source": [
    "print_dir_tree(output_path)"
   ]
  },
  {
   "cell_type": "code",
   "execution_count": null,
   "metadata": {},
   "outputs": [],
   "source": []
  }
 ],
 "metadata": {
  "kernelspec": {
   "display_name": "Python 3",
   "language": "python",
   "name": "python3"
  },
  "language_info": {
   "codemirror_mode": {
    "name": "ipython",
    "version": 3
   },
   "file_extension": ".py",
   "mimetype": "text/x-python",
   "name": "python",
   "nbconvert_exporter": "python",
   "pygments_lexer": "ipython3",
   "version": "3.6.8"
  }
 },
 "nbformat": 4,
 "nbformat_minor": 2
}
