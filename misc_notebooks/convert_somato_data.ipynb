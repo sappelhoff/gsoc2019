{
 "cells": [
  {
   "cell_type": "markdown",
   "metadata": {},
   "source": [
    "# Converting the MNE \"somato-data\" to BIDS format\n",
    "\n",
    "## Requirements\n",
    "\n",
    "The python dependencies to run this notebook are:\n",
    "- jupyter\n",
    "- numpy\n",
    "- scipy\n",
    "- mne<0.19\n",
    "- mne-bids\n",
    "- nibabel\n",
    "\n",
    "\n",
    "## Helpful links\n",
    "\n",
    "- https://github.com/mne-tools/mne-bids\n",
    "\n",
    "## Copyright\n",
    "```Text\n",
    "# Authors: Stefan Appelhoff <stefan.appelhoff@mailbox.org>\n",
    "#\n",
    "# License: BSD (3-clause)\n",
    "```\n"
   ]
  },
  {
   "cell_type": "code",
   "execution_count": null,
   "metadata": {
    "ExecuteTime": {
     "end_time": "2019-07-22T10:07:48.046604Z",
     "start_time": "2019-07-22T10:07:48.043216Z"
    }
   },
   "outputs": [],
   "source": [
    "import os\n",
    "import os.path as op\n",
    "import shutil as sh\n",
    "import json\n",
    "import warnings\n",
    "\n",
    "import numpy as np\n",
    "import mne\n",
    "import mne.datasets.somato as somato\n",
    "from mne_bids import write_raw_bids, make_bids_basename, write_anat\n",
    "from mne_bids.utils import print_dir_tree"
   ]
  },
  {
   "cell_type": "markdown",
   "metadata": {},
   "source": [
    "# Somato data prior to conversion"
   ]
  },
  {
   "cell_type": "code",
   "execution_count": null,
   "metadata": {},
   "outputs": [],
   "source": [
    "# Print the directory tree\n",
    "print_dir_tree(somato.data_path())"
   ]
  },
  {
   "cell_type": "markdown",
   "metadata": {},
   "source": [
    "# Convert to BIDS"
   ]
  },
  {
   "cell_type": "code",
   "execution_count": null,
   "metadata": {
    "ExecuteTime": {
     "end_time": "2019-07-22T10:07:48.379337Z",
     "start_time": "2019-07-22T10:07:48.371369Z"
    }
   },
   "outputs": [],
   "source": [
    "# Path to the raw data of somato dataset\n",
    "fif_path = op.join(somato.data_path(), 'MEG', 'somato')"
   ]
  },
  {
   "cell_type": "code",
   "execution_count": null,
   "metadata": {
    "ExecuteTime": {
     "end_time": "2019-07-22T10:07:49.337231Z",
     "start_time": "2019-07-22T10:07:49.286757Z"
    }
   },
   "outputs": [],
   "source": [
    "# Load the raw data file\n",
    "raw = mne.io.read_raw_fif(op.join(fif_path, 'sef_raw_sss.fif'))"
   ]
  },
  {
   "cell_type": "code",
   "execution_count": null,
   "metadata": {},
   "outputs": [],
   "source": [
    "# Set the sex of the participant to male\n",
    "# Subject sex (0=unknown, 1=male, 2=female).\n",
    "raw.info['subject_info']['sex'] = raw.info['subject_info'].get('sex', 1)"
   ]
  },
  {
   "cell_type": "code",
   "execution_count": null,
   "metadata": {
    "ExecuteTime": {
     "end_time": "2019-07-22T10:07:49.985317Z",
     "start_time": "2019-07-22T10:07:49.780137Z"
    }
   },
   "outputs": [],
   "source": [
    "# Get the events, and assign an ID\n",
    "events = mne.find_events(raw)\n",
    "event_id = dict()\n",
    "for val in np.unique(events[:, -1]):\n",
    "    event_id['somato_event{}'.format(val)] = val\n",
    "    \n",
    "event_id"
   ]
  },
  {
   "cell_type": "code",
   "execution_count": null,
   "metadata": {
    "ExecuteTime": {
     "end_time": "2019-07-22T10:07:51.933593Z",
     "start_time": "2019-07-22T10:07:51.930945Z"
    }
   },
   "outputs": [],
   "source": [
    "# Make a bids name for the raw file\n",
    "bids_basename = make_bids_basename(subject='01', task='somato')"
   ]
  },
  {
   "cell_type": "code",
   "execution_count": null,
   "metadata": {
    "ExecuteTime": {
     "end_time": "2019-07-22T10:07:52.250632Z",
     "start_time": "2019-07-22T10:07:52.241188Z"
    }
   },
   "outputs": [],
   "source": [
    "# Make a location for the BIDS formatted data\n",
    "somato_parent, somato_name = op.split(somato.data_path())\n",
    "output_path = op.join(somato_parent, somato_name + '-bids')"
   ]
  },
  {
   "cell_type": "code",
   "execution_count": null,
   "metadata": {
    "ExecuteTime": {
     "end_time": "2019-07-22T10:07:54.554315Z",
     "start_time": "2019-07-22T10:07:52.997244Z"
    }
   },
   "outputs": [],
   "source": [
    "# Write the data\n",
    "write_raw_bids(raw, bids_basename, output_path, events, event_id, overwrite=True)"
   ]
  },
  {
   "cell_type": "code",
   "execution_count": null,
   "metadata": {},
   "outputs": [],
   "source": [
    "# Edit dataset_description.json to include link to dataset\n",
    "dataset_description_json = op.join(output_path, 'dataset_description.json')\n",
    "with open(dataset_description_json, 'r') as fin:\n",
    "    jsondict = json.load(fin)\n",
    "    \n",
    "# Edit some fields we know of\n",
    "jsondict['Name'] = 'MNE-somato-data-bids'\n",
    "jsondict['Authors'] = ['Lauri Parkkonen']\n",
    "jsondict['License'] = 'PDDL, see: https://opendatacommons.org/licenses/pddl/'\n",
    "jsondict['ReferencesAndLinks'] = ['http://martinos.org/mne/stable/manual/datasets_index.html?#somatosensory']\n",
    "jsondict['Acknowledgements'] = \"Stefan Appelhoff, Alexandre Gramfort, and Mainak Jas formatted these data to BIDS.\"\n",
    "    \n",
    "    \n",
    "# overwrite the json, updating it\n",
    "with open(dataset_description_json, 'w') as fout:\n",
    "    json.dump(jsondict, fout,indent=2, sort_keys=True)"
   ]
  },
  {
   "cell_type": "code",
   "execution_count": null,
   "metadata": {
    "ExecuteTime": {
     "end_time": "2019-07-22T10:10:14.587250Z",
     "start_time": "2019-07-22T10:10:14.574657Z"
    }
   },
   "outputs": [],
   "source": [
    "# Write anatomical data to BIDS\n",
    "# we take the original T1 from the freesurfer directory\n",
    "t1w = op.join(somato.data_path(), 'subjects', 'somato', 'mri', 'T1.mgz')\n",
    "\n",
    "# we also take the trans file, and use it to write the coordinates of \n",
    "# anatomical landmarks to a T1w.json file\n",
    "trans = op.join(somato.data_path(), 'MEG', 'somato', 'sef_raw_sss-trans.fif')\n",
    "\n",
    "# Copy over the MRI, convert it to NIfTI format, and write the anatomical landmarks\n",
    "# in voxel coordinates\n",
    "write_anat(output_path, subject='01', t1w=t1w, trans=trans, raw=raw,\n",
    "           overwrite=True, verbose=True)"
   ]
  },
  {
   "cell_type": "code",
   "execution_count": null,
   "metadata": {
    "ExecuteTime": {
     "end_time": "2019-07-22T10:02:39.891224Z",
     "start_time": "2019-07-22T10:02:39.887512Z"
    }
   },
   "outputs": [],
   "source": [
    "# Show what the converted data looks like so far\n",
    "print_dir_tree(output_path)"
   ]
  },
  {
   "cell_type": "markdown",
   "metadata": {},
   "source": [
    "# Add derivatives\n",
    "\n",
    "some files cannot be specified in BIDS yet. We add these to derivatives\n"
   ]
  },
  {
   "cell_type": "code",
   "execution_count": null,
   "metadata": {},
   "outputs": [],
   "source": [
    "# General derivatives directory\n",
    "derivatives_dir =op.join(output_path, 'derivatives')\n",
    "if not op.exists(derivatives_dir):\n",
    "    os.makedirs(derivatives_dir)"
   ]
  },
  {
   "cell_type": "markdown",
   "metadata": {},
   "source": [
    "##### Notes on freesurfer\n",
    "\n",
    "we *cannot* simply copy over the freesurfer files from the non-BIDS somato data, because we need to rename the subject to '01' instead of 'somato'\n",
    "\n",
    "###### Example workflow (bash)\n",
    "\n",
    "First run freesurfer:\n",
    "\n",
    "```bash\n",
    "$ export SUBJECTS_DIR=/home/username/subjects\n",
    "\n",
    "$ echo $SUBJECTS_DIR\n",
    "/home/username/subjects\n",
    "\n",
    "$ recon-all -all -i /home/username/bids_MNE-somato-data/sub-01/anat/sub-01_T1w.nii.gz -s 01\n",
    "```\n",
    "\n",
    "Then your `$SUBJECTS_DIR` should contain a folder `01` with the somato MRI data derivatives and you can successfully run the following cell."
   ]
  },
  {
   "cell_type": "code",
   "execution_count": null,
   "metadata": {},
   "outputs": [],
   "source": [
    "# Make a freesurfer directory. \n",
    "subjects_dir = op.join(derivatives_dir, 'freesurfer', 'subjects')\n",
    "if not op.exists(subjects_dir):\n",
    "    os.makedirs(subjects_dir)\n",
    "    \n",
    "# For more info, see the markdown cell above \"notes on freesurfer\"    \n",
    "local_subjects_dir = os.getenv('SUBJECTS_DIR', None)\n",
    "if local_subjects_dir is not None:\n",
    "    freesurfer_data_to_copy_overop.join(local_subjects_dir, '01')\n",
    "    sh.copytree(freesurfer_data_to_copy_over, subjects_dir)\n",
    "else:\n",
    "    warnings.warn('\\n\\n**NOT** copying the freesurfer data. '\n",
    "                  'Please read the instructions in the cell above.')\n",
    "    \n",
    "    "
   ]
  },
  {
   "cell_type": "code",
   "execution_count": null,
   "metadata": {},
   "outputs": [],
   "source": [
    "# Make a directory for our subject and move the forward model there\n",
    "forward_dir = op.join(derivatives_dir, 'sub-01')\n",
    "if not op.exists(forward_dir):\n",
    "    os.makedirs(forward_dir)\n",
    "    \n",
    "# copy it, overwriting old if it's there\n",
    "old_forward = op.join(somato.data_path(), 'MEG', 'somato', 'somato-meg-oct-6-fwd.fif')\n",
    "bids_forward = op.join(forward_dir, 'sub-01_task-somato-fwd.fif')\n",
    "sh.copyfile(old_forward, bids_forward)"
   ]
  },
  {
   "cell_type": "code",
   "execution_count": null,
   "metadata": {},
   "outputs": [],
   "source": [
    "# Show what the converted data looks like so far\n",
    "print_dir_tree(output_path)"
   ]
  },
  {
   "cell_type": "markdown",
   "metadata": {},
   "source": [
    "# Create READMEs and copy over this code as well"
   ]
  },
  {
   "cell_type": "code",
   "execution_count": null,
   "metadata": {},
   "outputs": [],
   "source": [
    "# Prepare the text for the central README\n",
    "txt1 = \"\"\"MNE-somato-data-bids\n",
    "====================\n",
    "\n",
    "This dataset contains the MNE-somato-data in BIDS format.\n",
    "\n",
    "The conversion can be reproduced through the jupyter notebook stored in the\n",
    "/code directory of this dataset. See the README in that directory.\n",
    "\n",
    "The /derivaties directory contains the outputs of running the freesurfer pipeline\n",
    "`recon-all` on the MRI data with no additional commandline options (only defaults were used).\n",
    "\n",
    "It also contains, the forward model *-fwd.fif, which was produced using the source space\n",
    "definition, a -trans.fif file, and the boundary element model / conductor model that live\n",
    "in freesurfer/subjects/01/bem/*-bem-sol.fif.\n",
    "\n",
    "The -trans.fif file is not saved, but can be recovered from the anatomical landmarks\n",
    "in the sub-01/anat/T1w.json file and MNE-BIDS' function `get_head_mri_transform`.\n",
    "\n",
    "See: https://github.com/mne-tools/mne-bids for more information.\n",
    "\n",
    "\n",
    "Note on freesurfer\n",
    "==================\n",
    "the freesurfer pipeline `recon-all` was run new for the sake of converting the somato\n",
    "data to BIDS format. This needed to be done to change the \"somato\" subject name to \n",
    "the BIDS subject label \"01\".\n",
    "\n",
    "\n",
    "\"\"\""
   ]
  },
  {
   "cell_type": "code",
   "execution_count": null,
   "metadata": {},
   "outputs": [],
   "source": [
    "readme_fname = op.join(output_path, 'README')\n",
    "\n",
    "with open(readme_fname, 'w') as fout:\n",
    "    print(txt1, file=fout)"
   ]
  },
  {
   "cell_type": "code",
   "execution_count": null,
   "metadata": {},
   "outputs": [],
   "source": [
    "# Prepare a /code directory and write a README\n",
    "code_dir = op.join(output_path, 'code')\n",
    "if not op.exists(code_dir):\n",
    "    os.makedirs(code_dir)\n",
    "\n",
    "txt2 = \"\"\"`convert_somato_data.ipynb` is a [jupyter notebook](https://jupyter.org/)\n",
    "that helps to convert the MNE-somato-data into [BIDS](bids.neuroimaging.io) format.\n",
    "\n",
    "To run this notebook, you can follow the instructions here: https://jupyter.org/install\n",
    "\"\"\"\n",
    "\n",
    "readme_fname = op.join(code_dir, 'README')\n",
    "\n",
    "with open(readme_fname, 'w') as fout:\n",
    "    print(txt2, file=fout)\n"
   ]
  },
  {
   "cell_type": "code",
   "execution_count": null,
   "metadata": {},
   "outputs": [],
   "source": [
    "# Finally, copy over this jupyter notebook as well\n",
    "fname = 'convert_somato_data.ipynb'\n",
    "fpath = os.path.dirname(os.path.realpath('__file__'))\n",
    "fpath = op.join(fpath, fname)\n",
    "\n",
    "sh.copyfile(fpath, op.join(code_dir, fname))"
   ]
  },
  {
   "cell_type": "code",
   "execution_count": null,
   "metadata": {},
   "outputs": [],
   "source": [
    "# Show what the converted data looks like so far\n",
    "print_dir_tree(output_path)"
   ]
  },
  {
   "cell_type": "code",
   "execution_count": null,
   "metadata": {},
   "outputs": [],
   "source": []
  }
 ],
 "metadata": {
  "kernelspec": {
   "display_name": "Python 3",
   "language": "python",
   "name": "python3"
  },
  "language_info": {
   "codemirror_mode": {
    "name": "ipython",
    "version": 3
   },
   "file_extension": ".py",
   "mimetype": "text/x-python",
   "name": "python",
   "nbconvert_exporter": "python",
   "pygments_lexer": "ipython3",
   "version": "3.6.8"
  }
 },
 "nbformat": 4,
 "nbformat_minor": 2
}
